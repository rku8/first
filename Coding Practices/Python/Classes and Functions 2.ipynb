{
 "cells": [
  {
   "cell_type": "code",
   "execution_count": 1,
   "id": "331cb8d9",
   "metadata": {},
   "outputs": [],
   "source": [
    "class Time:\n",
    "    \"\"\"\n",
    "    Represents the time of the day.\n",
    "    attributes: hour, minute, second\n",
    "    \"\"\""
   ]
  },
  {
   "cell_type": "code",
   "execution_count": 2,
   "id": "08ff73a2",
   "metadata": {},
   "outputs": [],
   "source": [
    "time = Time()"
   ]
  },
  {
   "cell_type": "code",
   "execution_count": 10,
   "id": "59e44d92",
   "metadata": {},
   "outputs": [],
   "source": [
    "time.hour = 4\n",
    "time.minute = 40\n",
    "time.second = 20"
   ]
  },
  {
   "cell_type": "code",
   "execution_count": 14,
   "id": "1cff4717",
   "metadata": {},
   "outputs": [],
   "source": [
    "# Exercise\n",
    "def print_time(time: Time):\n",
    "    return '%.2d:%.2d:%.2d' % (time.hour, time.minute, time.second) \n"
   ]
  },
  {
   "cell_type": "markdown",
   "id": "7a58788e",
   "metadata": {},
   "source": [
    "- The format sequence '%.2d' prints an integer using at least two digits, including a leading zero if necessary."
   ]
  },
  {
   "cell_type": "code",
   "execution_count": 15,
   "id": "e7607da3",
   "metadata": {},
   "outputs": [
    {
     "data": {
      "text/plain": [
       "'04:40:20'"
      ]
     },
     "execution_count": 15,
     "metadata": {},
     "output_type": "execute_result"
    }
   ],
   "source": [
    "print_time(time)"
   ]
  },
  {
   "cell_type": "code",
   "execution_count": 22,
   "id": "a5f7da09",
   "metadata": {},
   "outputs": [],
   "source": [
    "def add_time(t1, t2):\n",
    "    time = Time()\n",
    "    time.hour = t1.hour + t2.hour\n",
    "    time.minute = t1.minute + t2.minute\n",
    "    time.second = t1.second + t2.second\n",
    "    \n",
    "    if time.second >= 60:\n",
    "        time.second -= 60\n",
    "        time.minute += 1\n",
    "        \n",
    "    if time.minute >= 60:\n",
    "        time.minute -= 60\n",
    "        time.hour += 1\n",
    "    \n",
    "    return time"
   ]
  },
  {
   "cell_type": "code",
   "execution_count": 23,
   "id": "41a92537",
   "metadata": {},
   "outputs": [],
   "source": [
    "t1 = Time()\n",
    "t2 = Time()\n",
    "t1.hour = 4\n",
    "t1.minute = 40\n",
    "t1.second = 20\n",
    "t2.hour = 8\n",
    "t2.minute = 45\n",
    "t2.second = 30"
   ]
  },
  {
   "cell_type": "code",
   "execution_count": 24,
   "id": "3d68436f",
   "metadata": {},
   "outputs": [],
   "source": [
    "sum_time = add_time(t1, t2)"
   ]
  },
  {
   "cell_type": "code",
   "execution_count": 25,
   "id": "8eb44a0c",
   "metadata": {},
   "outputs": [
    {
     "data": {
      "text/plain": [
       "'13:25:50'"
      ]
     },
     "execution_count": 25,
     "metadata": {},
     "output_type": "execute_result"
    }
   ],
   "source": [
    "print_time(sum_time)"
   ]
  },
  {
   "cell_type": "code",
   "execution_count": 26,
   "id": "3587f0af",
   "metadata": {},
   "outputs": [],
   "source": [
    "def valid_time(time):\n",
    "    if time.hour < 0 or time.minute < 0 or time.second < 0:\n",
    "        return False\n",
    "    elif time.minute > 60 or time.second > 60:\n",
    "        return False\n",
    "    return True            "
   ]
  },
  {
   "cell_type": "code",
   "execution_count": 27,
   "id": "2e55b201",
   "metadata": {},
   "outputs": [
    {
     "data": {
      "text/plain": [
       "True"
      ]
     },
     "execution_count": 27,
     "metadata": {},
     "output_type": "execute_result"
    }
   ],
   "source": [
    "valid_time(t1)"
   ]
  },
  {
   "cell_type": "code",
   "execution_count": 38,
   "id": "54ae5f64",
   "metadata": {},
   "outputs": [],
   "source": [
    "def add_time(t1, t2):\n",
    "    if not valid_time(t1) or not valid_time(t2):\n",
    "        raise ValueError('Time object is not in correct format')\n",
    "    time = Time()\n",
    "    time.hour = t1.hour + t2.hour\n",
    "    time.minute = t1.minute + t2.minute\n",
    "    time.second = t1.second + t2.second\n",
    "    \n",
    "    if time.second >= 60:\n",
    "        time.second -= 60\n",
    "        time.minute += 1\n",
    "        \n",
    "    if time.minute >= 60:\n",
    "        time.minute -= 60\n",
    "        time.hour += 1\n",
    "    \n",
    "    return time"
   ]
  },
  {
   "cell_type": "code",
   "execution_count": 39,
   "id": "f91ee04e",
   "metadata": {},
   "outputs": [
    {
     "ename": "ValueError",
     "evalue": "Time object is not in correct format",
     "output_type": "error",
     "traceback": [
      "\u001b[1;31m---------------------------------------------------------------------------\u001b[0m",
      "\u001b[1;31mValueError\u001b[0m                                Traceback (most recent call last)",
      "Cell \u001b[1;32mIn[39], line 2\u001b[0m\n\u001b[0;32m      1\u001b[0m t1\u001b[38;5;241m.\u001b[39mhour \u001b[38;5;241m=\u001b[39m \u001b[38;5;241m-\u001b[39m\u001b[38;5;241m4\u001b[39m\n\u001b[1;32m----> 2\u001b[0m add_time(t1, t2)\n",
      "Cell \u001b[1;32mIn[38], line 3\u001b[0m, in \u001b[0;36madd_time\u001b[1;34m(t1, t2)\u001b[0m\n\u001b[0;32m      1\u001b[0m \u001b[38;5;28;01mdef\u001b[39;00m \u001b[38;5;21madd_time\u001b[39m(t1, t2):\n\u001b[0;32m      2\u001b[0m     \u001b[38;5;28;01mif\u001b[39;00m \u001b[38;5;129;01mnot\u001b[39;00m valid_time(t1) \u001b[38;5;129;01mor\u001b[39;00m \u001b[38;5;129;01mnot\u001b[39;00m valid_time(t2):\n\u001b[1;32m----> 3\u001b[0m         \u001b[38;5;28;01mraise\u001b[39;00m \u001b[38;5;167;01mValueError\u001b[39;00m(\u001b[38;5;124m'\u001b[39m\u001b[38;5;124mTime object is not in correct format\u001b[39m\u001b[38;5;124m'\u001b[39m)\n\u001b[0;32m      4\u001b[0m     time \u001b[38;5;241m=\u001b[39m Time()\n\u001b[0;32m      5\u001b[0m     time\u001b[38;5;241m.\u001b[39mhour \u001b[38;5;241m=\u001b[39m t1\u001b[38;5;241m.\u001b[39mhour \u001b[38;5;241m+\u001b[39m t2\u001b[38;5;241m.\u001b[39mhour\n",
      "\u001b[1;31mValueError\u001b[0m: Time object is not in correct format"
     ]
    }
   ],
   "source": [
    "t1.hour = -4\n",
    "add_time(t1, t2)"
   ]
  },
  {
   "cell_type": "code",
   "execution_count": 40,
   "id": "86d454be",
   "metadata": {},
   "outputs": [],
   "source": [
    "# use of assert function\n",
    "def add_time(t1, t2):\n",
    "    assert valid_time(t1) and valid_time(t2)\n",
    "    time = Time()\n",
    "    time.hour = t1.hour + t2.hour\n",
    "    time.minute = t1.minute + t2.minute\n",
    "    time.second = t1.second + t2.second\n",
    "    \n",
    "    if time.second >= 60:\n",
    "        time.second -= 60\n",
    "        time.minute += 1\n",
    "        \n",
    "    if time.minute >= 60:\n",
    "        time.minute -= 60\n",
    "        time.hour += 1\n",
    "    \n",
    "    return time  "
   ]
  },
  {
   "cell_type": "code",
   "execution_count": 41,
   "id": "32c29039",
   "metadata": {},
   "outputs": [
    {
     "ename": "AssertionError",
     "evalue": "",
     "output_type": "error",
     "traceback": [
      "\u001b[1;31m---------------------------------------------------------------------------\u001b[0m",
      "\u001b[1;31mAssertionError\u001b[0m                            Traceback (most recent call last)",
      "Cell \u001b[1;32mIn[41], line 1\u001b[0m\n\u001b[1;32m----> 1\u001b[0m add_time(t1, t2)\n",
      "Cell \u001b[1;32mIn[40], line 3\u001b[0m, in \u001b[0;36madd_time\u001b[1;34m(t1, t2)\u001b[0m\n\u001b[0;32m      2\u001b[0m \u001b[38;5;28;01mdef\u001b[39;00m \u001b[38;5;21madd_time\u001b[39m(t1, t2):\n\u001b[1;32m----> 3\u001b[0m     \u001b[38;5;28;01massert\u001b[39;00m valid_time(t1) \u001b[38;5;129;01mand\u001b[39;00m valid_time(t2)\n\u001b[0;32m      4\u001b[0m     time \u001b[38;5;241m=\u001b[39m Time()\n\u001b[0;32m      5\u001b[0m     time\u001b[38;5;241m.\u001b[39mhour \u001b[38;5;241m=\u001b[39m t1\u001b[38;5;241m.\u001b[39mhour \u001b[38;5;241m+\u001b[39m t2\u001b[38;5;241m.\u001b[39mhour\n",
      "\u001b[1;31mAssertionError\u001b[0m: "
     ]
    }
   ],
   "source": [
    "add_time(t1, t2)"
   ]
  },
  {
   "cell_type": "markdown",
   "id": "b34ed1a3",
   "metadata": {},
   "source": [
    "### Exercise"
   ]
  },
  {
   "cell_type": "code",
   "execution_count": 44,
   "id": "543de7d4",
   "metadata": {},
   "outputs": [],
   "source": [
    "def mul_time(t, num):\n",
    "    time = Time()\n",
    "    time.hour = t.hour * num\n",
    "    time.minute = t.minute * num\n",
    "    time.second = t.second * num\n",
    "    \n",
    "    if time.second >= 60:\n",
    "        time.second -= 60\n",
    "        time.minute += 1\n",
    "    if time.minute >= 60:\n",
    "        time.minute -= 60\n",
    "        time.hour += 1\n",
    "    return time"
   ]
  },
  {
   "cell_type": "code",
   "execution_count": 50,
   "id": "1356c634",
   "metadata": {},
   "outputs": [],
   "source": [
    "mt = mul_time(sum_time, 2)"
   ]
  },
  {
   "cell_type": "code",
   "execution_count": 51,
   "id": "78e3e64f",
   "metadata": {},
   "outputs": [
    {
     "data": {
      "text/plain": [
       "'26:51:40'"
      ]
     },
     "execution_count": 51,
     "metadata": {},
     "output_type": "execute_result"
    }
   ],
   "source": [
    "print_time(mt)"
   ]
  },
  {
   "cell_type": "code",
   "execution_count": 52,
   "id": "c8a59434",
   "metadata": {},
   "outputs": [
    {
     "data": {
      "text/plain": [
       "'13:25:50'"
      ]
     },
     "execution_count": 52,
     "metadata": {},
     "output_type": "execute_result"
    }
   ],
   "source": [
    "print_time(sum_time)"
   ]
  },
  {
   "cell_type": "code",
   "execution_count": null,
   "id": "3730df9b",
   "metadata": {},
   "outputs": [],
   "source": []
  }
 ],
 "metadata": {
  "kernelspec": {
   "display_name": "Python 3 (ipykernel)",
   "language": "python",
   "name": "python3"
  },
  "language_info": {
   "codemirror_mode": {
    "name": "ipython",
    "version": 3
   },
   "file_extension": ".py",
   "mimetype": "text/x-python",
   "name": "python",
   "nbconvert_exporter": "python",
   "pygments_lexer": "ipython3",
   "version": "3.11.5"
  }
 },
 "nbformat": 4,
 "nbformat_minor": 5
}
