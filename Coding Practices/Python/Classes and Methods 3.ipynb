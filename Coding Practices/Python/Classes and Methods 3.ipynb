{
 "cells": [
  {
   "cell_type": "code",
   "execution_count": 2,
   "id": "bc647547",
   "metadata": {},
   "outputs": [],
   "source": [
    "class Time:\n",
    "    def __init__(self, hour=0, minute=0, second=0):\n",
    "        self.hour = hour\n",
    "        self.minute = minute\n",
    "        self.second = second\n",
    "        \n",
    "    def __str__(self):\n",
    "        return '%.2d:%.2d:%.2d' %(self.hour, self.minute, self.second)\n",
    "    \n",
    "    def valid_time(self):\n",
    "        if self.hour < 0 or self.minute < 0 or self.second < 0:\n",
    "            return False\n",
    "        elif self.minute > 60 or self.second > 60:\n",
    "            return False\n",
    "        return True  \n",
    "    \n",
    "    def __add__(self, other):  #operator overloading\n",
    "        time = Time()\n",
    "        time.hour = self.hour + other.hour\n",
    "        time.minute = self.minute + other.minute\n",
    "        time.second = self.second + other.second\n",
    "\n",
    "        if time.second >= 60:\n",
    "            time.second -= 60\n",
    "            time.minute += 1\n",
    "\n",
    "        if time.minute >= 60:\n",
    "            time.minute -= 60\n",
    "            time.hour += 1\n",
    "\n",
    "        return time\n",
    "    \n",
    "    def mul_time(self, num):\n",
    "        time = Time()\n",
    "        time.hour = self.hour * num\n",
    "        time.minute = self.minute * num\n",
    "        time.second = self.second * num\n",
    "\n",
    "        if time.second >= 60:\n",
    "            time.second -= 60\n",
    "            time.minute += 1\n",
    "        if time.minute >= 60:\n",
    "            time.minute -= 60\n",
    "            time.hour += 1\n",
    "        return time"
   ]
  },
  {
   "cell_type": "code",
   "execution_count": 6,
   "id": "f7320ebf",
   "metadata": {},
   "outputs": [],
   "source": [
    "time1 = Time(15, 26, 35)\n",
    "time2 = Time(14, 20, 30)"
   ]
  },
  {
   "cell_type": "code",
   "execution_count": 7,
   "id": "3ab23f26",
   "metadata": {},
   "outputs": [
    {
     "name": "stdout",
     "output_type": "stream",
     "text": [
      "29:47:05\n"
     ]
    }
   ],
   "source": [
    "print(time1 + time2)"
   ]
  },
  {
   "cell_type": "code",
   "execution_count": null,
   "id": "07a9fc46",
   "metadata": {},
   "outputs": [],
   "source": []
  }
 ],
 "metadata": {
  "kernelspec": {
   "display_name": "Python 3 (ipykernel)",
   "language": "python",
   "name": "python3"
  },
  "language_info": {
   "codemirror_mode": {
    "name": "ipython",
    "version": 3
   },
   "file_extension": ".py",
   "mimetype": "text/x-python",
   "name": "python",
   "nbconvert_exporter": "python",
   "pygments_lexer": "ipython3",
   "version": "3.11.5"
  }
 },
 "nbformat": 4,
 "nbformat_minor": 5
}
