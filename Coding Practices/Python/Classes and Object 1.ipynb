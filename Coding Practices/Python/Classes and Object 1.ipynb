{
 "cells": [
  {
   "cell_type": "markdown",
   "id": "90eaea92",
   "metadata": {},
   "source": [
    "Creating a new object is called __instantiation__, and the object is an __instance__ of the class.\n",
    "“object” and “instance” are interchangeable."
   ]
  },
  {
   "cell_type": "code",
   "execution_count": 1,
   "id": "6cffb302",
   "metadata": {},
   "outputs": [],
   "source": [
    "class Point:\n",
    "    \"\"\"This is a point representation\"\"\""
   ]
  },
  {
   "cell_type": "code",
   "execution_count": 2,
   "id": "c8a98596",
   "metadata": {},
   "outputs": [],
   "source": [
    "vert = Point()"
   ]
  },
  {
   "cell_type": "code",
   "execution_count": 4,
   "id": "3a007d20",
   "metadata": {},
   "outputs": [],
   "source": [
    "vert.x = 1; vert.y = 2"
   ]
  },
  {
   "cell_type": "code",
   "execution_count": 8,
   "id": "190f28b2",
   "metadata": {},
   "outputs": [
    {
     "data": {
      "text/plain": [
       "(1, 2)"
      ]
     },
     "execution_count": 8,
     "metadata": {},
     "output_type": "execute_result"
    }
   ],
   "source": [
    "vert.x, vert.y"
   ]
  },
  {
   "cell_type": "code",
   "execution_count": 14,
   "id": "a2ea5c5c",
   "metadata": {},
   "outputs": [
    {
     "data": {
      "text/plain": [
       "'(1, 2)'"
      ]
     },
     "execution_count": 14,
     "metadata": {},
     "output_type": "execute_result"
    }
   ],
   "source": [
    "'(%g, %g)' % (vert.x, vert.y)"
   ]
  },
  {
   "cell_type": "code",
   "execution_count": 15,
   "id": "b02a2e22",
   "metadata": {},
   "outputs": [],
   "source": [
    "class Rectangle:\n",
    "    \"\"\"\n",
    "    Represents the rectangle.\n",
    "    \n",
    "    arguments: heigth, width, corner\n",
    "    \"\"\""
   ]
  },
  {
   "cell_type": "code",
   "execution_count": 16,
   "id": "f46447bb",
   "metadata": {},
   "outputs": [],
   "source": [
    "box = Rectangle()"
   ]
  },
  {
   "cell_type": "code",
   "execution_count": 17,
   "id": "89105062",
   "metadata": {},
   "outputs": [],
   "source": [
    "box.height = 4\n",
    "box.width = 5\n",
    "box.corner = Point() # Using another class\n",
    "box.corner.x = 0\n",
    "box.corner.y = 0"
   ]
  },
  {
   "cell_type": "code",
   "execution_count": 18,
   "id": "40f9d488",
   "metadata": {},
   "outputs": [],
   "source": [
    "def find_center(rect):\n",
    "    p = Point()\n",
    "    p.x = rect.corner.x + rect.width/2\n",
    "    p.y = rect.corner.y + rect.height/2\n",
    "    return p"
   ]
  },
  {
   "cell_type": "code",
   "execution_count": 21,
   "id": "47eb0506",
   "metadata": {},
   "outputs": [],
   "source": [
    "center = find_center(box)"
   ]
  },
  {
   "cell_type": "code",
   "execution_count": 22,
   "id": "e335bd02",
   "metadata": {},
   "outputs": [
    {
     "data": {
      "text/plain": [
       "2.5"
      ]
     },
     "execution_count": 22,
     "metadata": {},
     "output_type": "execute_result"
    }
   ],
   "source": [
    "center.x"
   ]
  },
  {
   "cell_type": "code",
   "execution_count": 23,
   "id": "174c6bc6",
   "metadata": {},
   "outputs": [
    {
     "data": {
      "text/plain": [
       "2.0"
      ]
     },
     "execution_count": 23,
     "metadata": {},
     "output_type": "execute_result"
    }
   ],
   "source": [
    "center.y"
   ]
  },
  {
   "cell_type": "code",
   "execution_count": 24,
   "id": "15c1aac8",
   "metadata": {},
   "outputs": [],
   "source": [
    "# Objects are mutable"
   ]
  },
  {
   "cell_type": "code",
   "execution_count": 25,
   "id": "6c6e0e76",
   "metadata": {},
   "outputs": [],
   "source": [
    "box.corner.x = box.corner.x + 5\n",
    "box.corner.y = box.corner.y + 4"
   ]
  },
  {
   "cell_type": "code",
   "execution_count": 26,
   "id": "2d7fe7c0",
   "metadata": {},
   "outputs": [],
   "source": [
    "# Copy module can duplicate any object\n",
    "import copy\n",
    "p1 = Point()\n",
    "p2 = copy.copy(p1)"
   ]
  },
  {
   "cell_type": "code",
   "execution_count": 27,
   "id": "758586d7",
   "metadata": {},
   "outputs": [
    {
     "data": {
      "text/plain": [
       "False"
      ]
     },
     "execution_count": 27,
     "metadata": {},
     "output_type": "execute_result"
    }
   ],
   "source": [
    "p1 is p2"
   ]
  },
  {
   "cell_type": "code",
   "execution_count": 28,
   "id": "0dfbc340",
   "metadata": {},
   "outputs": [],
   "source": [
    "box1 = copy.copy(box)"
   ]
  },
  {
   "cell_type": "code",
   "execution_count": 31,
   "id": "5f78560e",
   "metadata": {},
   "outputs": [
    {
     "data": {
      "text/plain": [
       "False"
      ]
     },
     "execution_count": 31,
     "metadata": {},
     "output_type": "execute_result"
    }
   ],
   "source": [
    "box1 is box"
   ]
  },
  {
   "cell_type": "code",
   "execution_count": 32,
   "id": "71bb7cfd",
   "metadata": {},
   "outputs": [
    {
     "data": {
      "text/plain": [
       "True"
      ]
     },
     "execution_count": 32,
     "metadata": {},
     "output_type": "execute_result"
    }
   ],
   "source": [
    "box1.corner is box.corner"
   ]
  },
  {
   "cell_type": "markdown",
   "id": "28bd8a58",
   "metadata": {},
   "source": [
    "This is __shallow copy__. Because embedded points are not copying"
   ]
  },
  {
   "cell_type": "code",
   "execution_count": 36,
   "id": "45b4a591",
   "metadata": {},
   "outputs": [],
   "source": [
    "box2 = copy.deepcopy(box) #This is a deep copy"
   ]
  },
  {
   "cell_type": "code",
   "execution_count": 37,
   "id": "675a78c4",
   "metadata": {},
   "outputs": [
    {
     "data": {
      "text/plain": [
       "False"
      ]
     },
     "execution_count": 37,
     "metadata": {},
     "output_type": "execute_result"
    }
   ],
   "source": [
    "box2 is box"
   ]
  },
  {
   "cell_type": "code",
   "execution_count": 38,
   "id": "467b167f",
   "metadata": {},
   "outputs": [
    {
     "data": {
      "text/plain": [
       "False"
      ]
     },
     "execution_count": 38,
     "metadata": {},
     "output_type": "execute_result"
    }
   ],
   "source": [
    "box2.corner is box.corner"
   ]
  },
  {
   "cell_type": "code",
   "execution_count": 39,
   "id": "fe6557f4",
   "metadata": {},
   "outputs": [
    {
     "data": {
      "text/plain": [
       "True"
      ]
     },
     "execution_count": 39,
     "metadata": {},
     "output_type": "execute_result"
    }
   ],
   "source": [
    "isinstance(box, Rectangle) # Check the class"
   ]
  },
  {
   "cell_type": "code",
   "execution_count": 40,
   "id": "0207f067",
   "metadata": {},
   "outputs": [
    {
     "data": {
      "text/plain": [
       "True"
      ]
     },
     "execution_count": 40,
     "metadata": {},
     "output_type": "execute_result"
    }
   ],
   "source": [
    "# To check the object has a particular object or not\n",
    "p = Point()\n",
    "p.x = 10\n",
    "p.y = 15\n",
    "\n",
    "hasattr(p, 'x')"
   ]
  },
  {
   "cell_type": "code",
   "execution_count": 41,
   "id": "e79fe8b8",
   "metadata": {},
   "outputs": [
    {
     "data": {
      "text/plain": [
       "False"
      ]
     },
     "execution_count": 41,
     "metadata": {},
     "output_type": "execute_result"
    }
   ],
   "source": [
    "hasattr(p, 't')"
   ]
  },
  {
   "cell_type": "markdown",
   "id": "cd0eae30",
   "metadata": {},
   "source": [
    "### Exercise"
   ]
  },
  {
   "cell_type": "markdown",
   "id": "08147dc1",
   "metadata": {},
   "source": [
    "- Write a definition for a class named Circle with attributes center and radius, where center is a Point object and radius is a number.\n",
    "- Instantiate a Circle object that represents a circle with its center at (150, 100) and radius 75.\n",
    "- Write a function named __point_in_circle__ that takes a Circle and a Point and returns True if the Point lies in or on the boundary of the circle. \n",
    "- Write a function named __rect_in_circle__ that takes a Circle and a Rectangle and returns True if the Rectangle lies entirely in or on the boundary of the circle.\n",
    "- Write a function named __rect_circle_overlap__ that takes a Circle and a Rectangle and returns True if any of the corners of the Rectangle fall inside the circle. Or as a more challenging version, return True if any part of the Rectangle falls inside the circle."
   ]
  },
  {
   "cell_type": "code",
   "execution_count": 42,
   "id": "9cd95117",
   "metadata": {},
   "outputs": [],
   "source": [
    "class Circle:\n",
    "    \"\"\"\n",
    "    Representation of circle.\n",
    "    arguments: center, radius\n",
    "    \"\"\""
   ]
  },
  {
   "cell_type": "code",
   "execution_count": 43,
   "id": "b9a307d4",
   "metadata": {},
   "outputs": [],
   "source": [
    "c = Circle()\n",
    "c.center = Point()\n",
    "c.center.x = 150\n",
    "c.center.y = 100\n",
    "c.radius = 75"
   ]
  },
  {
   "cell_type": "code",
   "execution_count": 61,
   "id": "975b7881",
   "metadata": {},
   "outputs": [],
   "source": [
    "def point_in_circle(cir: Circle, p: Point)-> bool: # Is it Circle or Circle()\n",
    "    import math\n",
    "    radius = cir.radius\n",
    "    dist = math.sqrt((p.x - cir.center.x)**2 + (p.y - cir.center.y)**2)\n",
    "    return dist <= radius\n",
    "    "
   ]
  },
  {
   "cell_type": "code",
   "execution_count": 62,
   "id": "18e2b168",
   "metadata": {},
   "outputs": [],
   "source": [
    "p = Point()\n",
    "p.x = 150\n",
    "p.y = 130"
   ]
  },
  {
   "cell_type": "code",
   "execution_count": 63,
   "id": "bc4d4b3f",
   "metadata": {},
   "outputs": [
    {
     "data": {
      "text/plain": [
       "True"
      ]
     },
     "execution_count": 63,
     "metadata": {},
     "output_type": "execute_result"
    }
   ],
   "source": [
    "point_in_circle(c, p)"
   ]
  },
  {
   "cell_type": "code",
   "execution_count": 64,
   "id": "3a07df2e",
   "metadata": {},
   "outputs": [],
   "source": [
    "def rect_in_circle(cir: Circle, rect: Rectangle)-> bool:\n",
    "    import math\n",
    "    radius = cir.radius\n",
    "    first_corner = Point()\n",
    "    first_corner.x = rect.corner.x\n",
    "    first_corner.y = rect.corner.y\n",
    "    if not point_in_circle(cir, first_corner):\n",
    "        return False\n",
    "    second_corner = Point()\n",
    "    second_corner.x = rect.corner.x + rect.width\n",
    "    second_corner.y = rect.corner.y\n",
    "    if not point_in_circle(cir, second_corner):\n",
    "        return False\n",
    "    third_corner = Point()\n",
    "    third_corner.x = rect.corner.x \n",
    "    third_corner.y = rect.corner.y + rect.height\n",
    "    if not point_in_circle(cir, third_corner):\n",
    "        return False\n",
    "    fourth_corner = Point()\n",
    "    fourth_corner.x = rect.corner.x + rect.width\n",
    "    fourth_corner.y = rect.corner.y + rect.height\n",
    "    if not point_in_circle(cir, fourth_corner):\n",
    "        return False\n",
    "    return True"
   ]
  },
  {
   "cell_type": "code",
   "execution_count": 65,
   "id": "fa97491e",
   "metadata": {},
   "outputs": [
    {
     "data": {
      "text/plain": [
       "False"
      ]
     },
     "execution_count": 65,
     "metadata": {},
     "output_type": "execute_result"
    }
   ],
   "source": [
    "rect_in_circle(c, box)"
   ]
  },
  {
   "cell_type": "code",
   "execution_count": 66,
   "id": "7b75e9c8",
   "metadata": {},
   "outputs": [],
   "source": [
    "def rect_circle_overlap(cir: Circle, rect: Rectangle)-> bool:\n",
    "    import math\n",
    "    radius = cir.radius\n",
    "    first_corner = Point()\n",
    "    first_corner.x = rect.corner.x\n",
    "    first_corner.y = rect.corner.y\n",
    "    if point_in_circle(cir, first_corner):\n",
    "        return True\n",
    "    second_corner = Point()\n",
    "    second_corner.x = rect.corner.x + rect.width\n",
    "    second_corner.y = rect.corner.y\n",
    "    if point_in_circle(cir, second_corner):\n",
    "        return True\n",
    "    third_corner = Point()\n",
    "    third_corner.x = rect.corner.x \n",
    "    third_corner.y = rect.corner.y + rect.height\n",
    "    if point_in_circle(cir, third_corner):\n",
    "        return True\n",
    "    fourth_corner = Point()\n",
    "    fourth_corner.x = rect.corner.x + rect.width\n",
    "    fourth_corner.y = rect.corner.y + rect.height\n",
    "    if point_in_circle(cir, fourth_corner):\n",
    "        return True\n",
    "    return False"
   ]
  },
  {
   "cell_type": "code",
   "execution_count": 67,
   "id": "f6da4328",
   "metadata": {},
   "outputs": [
    {
     "data": {
      "text/plain": [
       "False"
      ]
     },
     "execution_count": 67,
     "metadata": {},
     "output_type": "execute_result"
    }
   ],
   "source": [
    "rect_circle_overlap(c, box)"
   ]
  },
  {
   "cell_type": "code",
   "execution_count": 76,
   "id": "117b19c0",
   "metadata": {},
   "outputs": [],
   "source": [
    "re_box = Rectangle()\n",
    "re_box.height = 140\n",
    "re_box.width = 150\n",
    "re_box.corner = Point() # Using another class\n",
    "re_box.corner.x = 5\n",
    "re_box.corner.y = 5"
   ]
  },
  {
   "cell_type": "code",
   "execution_count": 77,
   "id": "04ae5c01",
   "metadata": {},
   "outputs": [
    {
     "data": {
      "text/plain": [
       "True"
      ]
     },
     "execution_count": 77,
     "metadata": {},
     "output_type": "execute_result"
    }
   ],
   "source": [
    "rect_circle_overlap(c, re_box)"
   ]
  },
  {
   "cell_type": "code",
   "execution_count": null,
   "id": "2b571815",
   "metadata": {},
   "outputs": [],
   "source": []
  }
 ],
 "metadata": {
  "kernelspec": {
   "display_name": "Python 3 (ipykernel)",
   "language": "python",
   "name": "python3"
  },
  "language_info": {
   "codemirror_mode": {
    "name": "ipython",
    "version": 3
   },
   "file_extension": ".py",
   "mimetype": "text/x-python",
   "name": "python",
   "nbconvert_exporter": "python",
   "pygments_lexer": "ipython3",
   "version": "3.11.5"
  }
 },
 "nbformat": 4,
 "nbformat_minor": 5
}
