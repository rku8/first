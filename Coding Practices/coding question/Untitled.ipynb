{
 "cells": [
  {
   "cell_type": "markdown",
   "id": "99fe85ed",
   "metadata": {},
   "source": [
    "Find All Occurrences of a Character in a String\n",
    "Task: Given a string and a character, find all the indices of the character's occurrences in the string. Striing  = \"example string\" char = \"e\""
   ]
  },
  {
   "cell_type": "code",
   "execution_count": 30,
   "id": "578f4205",
   "metadata": {},
   "outputs": [],
   "source": [
    "string = \"example string\"\n",
    "char = \"e\""
   ]
  },
  {
   "cell_type": "code",
   "execution_count": 3,
   "id": "825132d4",
   "metadata": {},
   "outputs": [],
   "source": [
    "indices_char = []\n",
    "for idx, val in enumerate(string):\n",
    "    if char == val:\n",
    "        indices_char.append(idx)"
   ]
  },
  {
   "cell_type": "code",
   "execution_count": 4,
   "id": "0e31fbf8",
   "metadata": {},
   "outputs": [
    {
     "data": {
      "text/plain": [
       "[0, 6]"
      ]
     },
     "execution_count": 4,
     "metadata": {},
     "output_type": "execute_result"
    }
   ],
   "source": [
    "indices_char"
   ]
  },
  {
   "cell_type": "code",
   "execution_count": 19,
   "id": "ecc5eb94",
   "metadata": {},
   "outputs": [],
   "source": [
    "indices_char = []"
   ]
  },
  {
   "cell_type": "code",
   "execution_count": 20,
   "id": "2e8eceea",
   "metadata": {},
   "outputs": [],
   "source": [
    "i=0\n",
    "for val in string:\n",
    "    if val == char:\n",
    "        indices_char.append(i)\n",
    "    i+=1"
   ]
  },
  {
   "cell_type": "code",
   "execution_count": 21,
   "id": "209bc2aa",
   "metadata": {},
   "outputs": [
    {
     "data": {
      "text/plain": [
       "[4]"
      ]
     },
     "execution_count": 21,
     "metadata": {},
     "output_type": "execute_result"
    }
   ],
   "source": [
    "indices_char"
   ]
  },
  {
   "cell_type": "code",
   "execution_count": 8,
   "id": "6e66d278",
   "metadata": {},
   "outputs": [
    {
     "data": {
      "text/plain": [
       "0"
      ]
     },
     "execution_count": 8,
     "metadata": {},
     "output_type": "execute_result"
    }
   ],
   "source": [
    "string.index('e')"
   ]
  },
  {
   "cell_type": "code",
   "execution_count": 31,
   "id": "0836356f",
   "metadata": {},
   "outputs": [],
   "source": [
    "indices_char = []"
   ]
  },
  {
   "cell_type": "code",
   "execution_count": 23,
   "id": "f0519f15",
   "metadata": {},
   "outputs": [],
   "source": [
    "for val in string:\n",
    "    if val == char:\n",
    "        print(string.)"
   ]
  },
  {
   "cell_type": "code",
   "execution_count": 32,
   "id": "6786ec81",
   "metadata": {},
   "outputs": [],
   "source": [
    "for val in range(len(string)):\n",
    "    if char == string[val]:\n",
    "        indices_char.append(val)"
   ]
  },
  {
   "cell_type": "code",
   "execution_count": 33,
   "id": "4a47ef3c",
   "metadata": {},
   "outputs": [
    {
     "data": {
      "text/plain": [
       "[0, 6]"
      ]
     },
     "execution_count": 33,
     "metadata": {},
     "output_type": "execute_result"
    }
   ],
   "source": [
    "indices_char"
   ]
  },
  {
   "cell_type": "code",
   "execution_count": null,
   "id": "d4552b0e",
   "metadata": {},
   "outputs": [],
   "source": []
  },
  {
   "cell_type": "markdown",
   "id": "93042392",
   "metadata": {},
   "source": [
    "Next Question"
   ]
  },
  {
   "cell_type": "markdown",
   "id": "3ea47944",
   "metadata": {},
   "source": [
    "Merge Two Dictionaries by Summing Values of\n",
    "Common Keys\n",
    "Task: Given two dictionaries, merge them into a new\n",
    "dictionary. For keys present in both dictionaries,\n",
    "sum their values.\n",
    "dictl\n",
    "dict2 = 3, 4, 5}"
   ]
  },
  {
   "cell_type": "code",
   "execution_count": 35,
   "id": "f8f88842",
   "metadata": {},
   "outputs": [],
   "source": [
    "dict1 = {'a': 1, 'b': 2, 'c': 3}\n",
    "dict2 = {'b': 3,  'c': 4, 'd': 5}"
   ]
  },
  {
   "cell_type": "code",
   "execution_count": 60,
   "id": "f2d53a24",
   "metadata": {},
   "outputs": [],
   "source": [
    "new_dict = {}"
   ]
  },
  {
   "cell_type": "code",
   "execution_count": 40,
   "id": "1dd5f564",
   "metadata": {},
   "outputs": [],
   "source": [
    "dict1_keys = dict1.keys()"
   ]
  },
  {
   "cell_type": "code",
   "execution_count": 41,
   "id": "4cf557c9",
   "metadata": {},
   "outputs": [],
   "source": [
    "dict2_keys = dict2.keys()"
   ]
  },
  {
   "cell_type": "code",
   "execution_count": 48,
   "id": "2303ee57",
   "metadata": {},
   "outputs": [],
   "source": [
    "for key1 in dict1_keys:\n",
    "    for key2 in dict2_keys:\n",
    "        if key1 == key2:\n",
    "            new_dict[key1] =  dict1[key1] + dict2[key2]\n",
    "        else:\n",
    "            if key1 not in list(new_dict.keys()):\n",
    "                new_dict[key2] = dict2[key2]"
   ]
  },
  {
   "cell_type": "code",
   "execution_count": 62,
   "id": "83cd342d",
   "metadata": {},
   "outputs": [
    {
     "data": {
      "text/plain": [
       "{'a': 1, 'b': 5, 'c': 7}"
      ]
     },
     "execution_count": 62,
     "metadata": {},
     "output_type": "execute_result"
    }
   ],
   "source": [
    "new_dict"
   ]
  },
  {
   "cell_type": "code",
   "execution_count": 61,
   "id": "07ce5c4b",
   "metadata": {},
   "outputs": [],
   "source": [
    "for key1 in new_dict2:\n",
    "    if key1 in list(dict2_keys):\n",
    "        new_dict[key1] =  dict1[key1] + dict2[key1]\n",
    "    else:\n",
    "        if key1 not in list(new_dict.keys()):\n",
    "            new_dict[key1] =  dict1[key1]\n",
    "        "
   ]
  },
  {
   "cell_type": "code",
   "execution_count": 59,
   "id": "5cc6998d",
   "metadata": {},
   "outputs": [],
   "source": [
    "new_dict2 = dict1.copy()"
   ]
  },
  {
   "cell_type": "code",
   "execution_count": 67,
   "id": "4f4b93a8",
   "metadata": {},
   "outputs": [
    {
     "data": {
      "text/plain": [
       "dict_keys(['a', 'b', 'c'])"
      ]
     },
     "execution_count": 67,
     "metadata": {},
     "output_type": "execute_result"
    }
   ],
   "source": [
    "new_dict2.keys()"
   ]
  },
  {
   "cell_type": "code",
   "execution_count": 64,
   "id": "a8cc2fe3",
   "metadata": {},
   "outputs": [],
   "source": [
    "for key in list(new_dict2.keys()):\n",
    "    if key in dict2_keys:\n",
    "        new_dict2[key] += new_dict2[key] + dict2[key]\n",
    "    \n",
    "        "
   ]
  },
  {
   "cell_type": "code",
   "execution_count": 65,
   "id": "101e63e3",
   "metadata": {},
   "outputs": [
    {
     "data": {
      "text/plain": [
       "{'a': 1, 'b': 7, 'c': 10}"
      ]
     },
     "execution_count": 65,
     "metadata": {},
     "output_type": "execute_result"
    }
   ],
   "source": [
    "new_dict2"
   ]
  },
  {
   "cell_type": "code",
   "execution_count": null,
   "id": "f2760d8d",
   "metadata": {},
   "outputs": [],
   "source": [
    "for key1, key2 in zip(dict1.keys(), dict2.keys()):\n",
    "    if key1 == key2:\n",
    "        "
   ]
  }
 ],
 "metadata": {
  "kernelspec": {
   "display_name": "Python 3 (ipykernel)",
   "language": "python",
   "name": "python3"
  },
  "language_info": {
   "codemirror_mode": {
    "name": "ipython",
    "version": 3
   },
   "file_extension": ".py",
   "mimetype": "text/x-python",
   "name": "python",
   "nbconvert_exporter": "python",
   "pygments_lexer": "ipython3",
   "version": "3.11.5"
  }
 },
 "nbformat": 4,
 "nbformat_minor": 5
}
